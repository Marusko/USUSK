{
 "cells": [
  {
   "cell_type": "markdown",
   "metadata": {
    "id": "-trd83feTvLF"
   },
   "source": [
    "### Importing packages"
   ]
  },
  {
   "cell_type": "code",
   "execution_count": 3,
   "metadata": {
    "ExecuteTime": {
     "end_time": "2023-12-15T19:26:29.011213500Z",
     "start_time": "2023-12-15T19:26:28.280153700Z"
    },
    "id": "qszGk4kNjP_P"
   },
   "outputs": [],
   "source": [
    "import pandas as pd\n",
    "import numpy as np\n",
    "import matplotlib.pyplot as plt"
   ]
  },
  {
   "cell_type": "markdown",
   "metadata": {
    "collapsed": false
   },
   "source": [
    "## Scaling and centering\n",
    "\n",
    "### Min-max transformation\n",
    "Here, we look at the Min-max transformation, which transforms the data between 0 and 1. We use the `sklearn.preprocessing` and [MinMaxScaler](https://scikit-learn.org/stable/modules/generated/sklearn.preprocessing.MinMaxScaler.html).\n",
    "\n",
    "Here, we will tranform the columns of the matrix provided in the `data` array. In the first step, we need to exatract `data_min_` and `data_max_` attributes. Next, we fit the transformer to the data and transform the row vector  $(2, 2)$. Be careful that the observation is a row of a matrix so it needs to have the corresponding shape.\n",
    "\n",
    "In the first print, just add the max atribute. In the second, transform the `data`. In the third, transform the row vector $(2, 2)$, that needs to have a `(1,2)` shape."
   ]
  },
  {
   "cell_type": "code",
   "execution_count": 4,
   "metadata": {
    "ExecuteTime": {
     "end_time": "2023-12-15T19:26:29.548515800Z",
     "start_time": "2023-12-15T19:26:29.010216900Z"
    },
    "id": "FrCMlH5xG7P7"
   },
   "outputs": [
    {
     "name": "stdout",
     "output_type": "stream",
     "text": [
      " Minimal values: [-1.  2.], Maximum values : [ 1. 18.]\n",
      "Transformed data: \n",
      "[[0.   0.  ]\n",
      " [0.5  0.5 ]\n",
      " [0.25 0.25]\n",
      " [1.   1.  ]]\n",
      "Transformed vector (2, 2): \n",
      " [[1.5 0. ]]\n"
     ]
    }
   ],
   "source": [
    "from sklearn.preprocessing import MinMaxScaler\n",
    "data = np.array([[-1, 2],  [0, 10], [-0.5, 6], [1, 18]])\n",
    "scaler = MinMaxScaler()\n",
    "scaler.fit(data)\n",
    "\n",
    "# extract the miminum and maximum used to scale the data\n",
    "print(f' Minimal values: {scaler.data_min_}, Maximum values : { scaler.data_max_}')\n",
    "\n",
    "# transform the data calling a transform method with the data as an argument\n",
    "print(f'Transformed data: \\n{scaler.transform(data) }')\n",
    "\n",
    "# transform transform the data point [2,2]\n",
    "print(f'Transformed vector (2, 2): \\n { scaler.transform(np.array([[2 , 2]]))}')\n"
   ]
  },
  {
   "cell_type": "markdown",
   "metadata": {
    "id": "MoPP5BRCyC9N"
   },
   "source": [
    "Above, we had the `fit` and `transform` methods separately. The `fit` is used to fit the feature transformer to the data, in this case, for min max normalization, to calculate the minimum and maximum of each column. Then the transform function is used to transform any data using the parameters calculated on the data passed to fita. What is one of the reasons for having the `transform` function?\n",
    "\n",
    "Well, if you have new data coming, some observation $x_1$ needs to be transformed into the same transformed value after the transformation $x^t_1$. If we received a new sample of our data, it would probably have different min and max, and in that case an observation could get transformed into a different observation than if it appeared in the original sample.\n",
    "However this case, the new value can be out of the $\\langle 0, 1 \\rangle$ range if it is lower or higher than the old minimum.\n",
    "\n",
    "Consider the example below. If we add the data. The observation $x_3=(-0.5, 6)$ got transformed into the same value $x^t_3 = (0.25, 0.25)$ as above. For example if we transform an observation that has values out of the original range, e.g., $x_5 = (-2, 20)$, it will fell out of the $\\langle 0, 1 \\rangle$ interval."
   ]
  },
  {
   "cell_type": "code",
   "execution_count": 5,
   "metadata": {
    "ExecuteTime": {
     "end_time": "2023-12-15T19:26:29.553175600Z",
     "start_time": "2023-12-15T19:26:29.548515800Z"
    },
    "id": "LKJcwjPr1bF8"
   },
   "outputs": [
    {
     "name": "stdout",
     "output_type": "stream",
     "text": [
      "Transformed (-0.5, 6): [[0.25 0.25]]\n",
      "\n",
      "Transformed (-2, 20): [[-0.5    1.125]]\n"
     ]
    }
   ],
   "source": [
    "print(f\"Transformed (-0.5, 6): {scaler.transform([[-0.5, 6]])}\")\n",
    "print(f\"\\nTransformed (-2, 20): {scaler.transform([[-2, 20]])}\")"
   ]
  },
  {
   "cell_type": "markdown",
   "metadata": {
    "id": "XZ5EuAv31My0"
   },
   "source": [
    "To get the fitting and transformation in one step, you can use the function `fit_transform`."
   ]
  },
  {
   "cell_type": "code",
   "execution_count": 6,
   "metadata": {
    "ExecuteTime": {
     "end_time": "2023-12-15T19:26:29.564943600Z",
     "start_time": "2023-12-15T19:26:29.553175600Z"
    },
    "id": "GjlzL6ht5BdB"
   },
   "outputs": [
    {
     "name": "stdout",
     "output_type": "stream",
     "text": [
      "Transformed data: using fit_transform\n",
      " [[0.   0.  ]\n",
      " [0.5  0.5 ]\n",
      " [0.25 0.25]\n",
      " [1.   1.  ]]\n",
      "Transformed data using transform:\n",
      " [[0.   0.  ]\n",
      " [0.5  0.5 ]\n",
      " [0.25 0.25]\n",
      " [1.   1.  ]]\n"
     ]
    }
   ],
   "source": [
    "scaler_ft = MinMaxScaler()\n",
    "print(f\"Transformed data: using fit_transform\\n {scaler_ft.fit_transform(data)}\")\n",
    "print(f\"Transformed data using transform:\\n {scaler_ft.transform(data)}\")"
   ]
  },
  {
   "cell_type": "markdown",
   "metadata": {
    "id": "3ZNh8a3E2Drw"
   },
   "source": [
    "Notice, that if we merge the new datapoint with the data, we will get a different mapping for each of the points. To do fitting and transforming in a single step, we will use `fit_transform` function."
   ]
  },
  {
   "cell_type": "code",
   "execution_count": 7,
   "metadata": {
    "ExecuteTime": {
     "end_time": "2023-12-15T19:26:29.575450400Z",
     "start_time": "2023-12-15T19:26:29.564943600Z"
    },
    "colab": {
     "base_uri": "https://localhost:8080/"
    },
    "executionInfo": {
     "elapsed": 3,
     "status": "ok",
     "timestamp": 1699517061344,
     "user": {
      "displayName": "Milan Straka",
      "userId": "13527477701716738802"
     },
     "user_tz": -60
    },
    "id": "XLUE2AtW7OzX",
    "outputId": "a6cc5e70-6711-4007-a3b6-b4f58eba8061"
   },
   "outputs": [
    {
     "name": "stdout",
     "output_type": "stream",
     "text": [
      "[[0.   0.  ]\n",
      " [0.5  0.5 ]\n",
      " [0.25 0.25]\n",
      " [1.   1.  ]]\n"
     ]
    }
   ],
   "source": [
    "data2 = np.array([[-1, 2],  [0, 10], [-0.5, 6], [1, 18]])\n",
    "scaler2 = MinMaxScaler()\n",
    "print(scaler2.fit_transform(data2))"
   ]
  },
  {
   "cell_type": "markdown",
   "metadata": {
    "id": "YGZchQZt9dUo"
   },
   "source": [
    "So imagine you divided your data into training and test set. If you would use a different scaler for the training set and a different scaler for the test set, you would get different values after scaling for the same value in training and test set. Therefore you need to fit the transformer (using `fit`or `fit_transform`) on the training set and then transform the test values using the same transformer."
   ]
  },
  {
   "cell_type": "markdown",
   "metadata": {
    "id": "iUiEWAS782VF"
   },
   "source": [
    "## Cyclical encoding\n",
    "Cyclical encoding is used to transform cyclical variables as time to numerical values, so the distances among elements are preserved. For example to keep the distance between 23:00 and 1:00 equal same as distance between 23:00 and 21:00 .\n",
    "\n",
    "\n",
    "To perform cyclical encoding, we will use the following equations:\n",
    "- $x_{sin} = \\sin(\\frac{2 \\pi x}{\\max(x)})$\n",
    "- $x_{cos} = \\cos(\\frac{2 \\pi x}{\\max(x)})$.\n",
    "\n",
    "For the decimal 24 hour format the $max(x) = 24$, so\n",
    "$x_{sin} = \\sin(\\frac{2 \\pi x}{24})$.\n",
    "\n",
    "The task is now to encode the `hours` vector storing hours using cyclical encoding. Below, we have an example of how to perform encoding with the sine function, so you need to add the cosine function."
   ]
  },
  {
   "cell_type": "code",
   "execution_count": 8,
   "metadata": {
    "ExecuteTime": {
     "end_time": "2023-12-15T19:26:29.662317100Z",
     "start_time": "2023-12-15T19:26:29.575450400Z"
    },
    "id": "t7o_9csRq9Ck"
   },
   "outputs": [],
   "source": [
    "#@title Creating the data for transformations { display-mode: \"code\" }\n",
    "from datetime import datetime\n",
    "date_list = list(pd.date_range(start='2022-02-01 01:00:00', periods=50, freq='1h'))\n",
    "hour_list = [d.hour for d in date_list]\n",
    "hours = np.array(hour_list)"
   ]
  },
  {
   "cell_type": "markdown",
   "metadata": {
    "id": "auXtUCckJ2Ow"
   },
   "source": [
    "In the cell below first, fill the body of the function **based on the expressions that are used as arguments** of the goniometric functions, i.e., it will not contain any goniometric function. Use the provided parameters and `np.pi` to get the $\\pi$ value. Next, calculate the cosine similar to the sine angle of the encoded values."
   ]
  },
  {
   "cell_type": "code",
   "execution_count": 9,
   "metadata": {
    "ExecuteTime": {
     "end_time": "2023-12-15T19:26:29.664311900Z",
     "start_time": "2023-12-15T19:26:29.590894600Z"
    },
    "id": "O8P0NThtilxE"
   },
   "outputs": [
    {
     "name": "stdout",
     "output_type": "stream",
     "text": [
      "[ 1  2  3  4  5  6  7  8  9 10 11 12 13 14 15 16 17 18 19 20 21 22 23  0\n",
      "  1  2  3  4  5  6  7  8  9 10 11 12 13 14 15 16 17 18 19 20 21 22 23  0\n",
      "  1  2]\n",
      "You defined the function correctly\n"
     ]
    }
   ],
   "source": [
    "print(hours)\n",
    "period = 24\n",
    "\n",
    "def cycl_encod_fun(x, period):\n",
    "  return (2*np.pi*x)/period\n",
    "\n",
    "print(\"You defined the function correctly\" if round(cycl_encod_fun(12,24),5) == round(np.pi, 5) else \"The function cycl_encod_fun contains an error\" )\n",
    "\n",
    "data = pd.DataFrame()\n",
    "data['hour_sin'] = np.sin(cycl_encod_fun(hours, period))\n",
    "data['hour_cos'] = np.cos(cycl_encod_fun(hours, period))"
   ]
  },
  {
   "cell_type": "markdown",
   "metadata": {
    "id": "h5AGTkO-k091"
   },
   "source": [
    "Next we plot the transformed variable. We can see the values insead of being on a line are now plotted on a circle like on an 24 hour clock. This way is also the distance among the values preserved."
   ]
  },
  {
   "cell_type": "code",
   "execution_count": 10,
   "metadata": {
    "ExecuteTime": {
     "end_time": "2023-12-15T19:26:29.726459Z",
     "start_time": "2023-12-15T19:26:29.603515Z"
    },
    "id": "hye1x055k0fp"
   },
   "outputs": [
    {
     "data": {
      "image/png": "[encoded data removed]",
      "text/plain": [
       "<Figure size 640x480 with 1 Axes>"
      ]
     },
     "metadata": {},
     "output_type": "display_data"
    }
   ],
   "source": [
    "plt.scatter(data['hour_cos'], data['hour_sin'])\n",
    "plt.show()"
   ]
  },
  {
   "cell_type": "markdown",
   "metadata": {
    "id": "rN7KrCvZcem_"
   },
   "source": [
    "As an advanced approach we can use the `FunctionTransformer` from the `sklearn` library.\n",
    "Similarly to the `sin_transformer`, define a `cos_transformer`. Next, define the `hour_cos` column of the `hour_df` dataframe the encoding of the `hours` column."
   ]
  },
  {
   "cell_type": "code",
   "execution_count": 11,
   "metadata": {
    "ExecuteTime": {
     "end_time": "2023-12-15T19:26:29.911494200Z",
     "start_time": "2023-12-15T19:26:29.728452400Z"
    },
    "id": "Xm8i1D2tnT9x"
   },
   "outputs": [
    {
     "data": {
      "image/png": "[encoded data removed]",
      "text/plain": [
       "<Figure size 640x480 with 1 Axes>"
      ]
     },
     "metadata": {},
     "output_type": "display_data"
    }
   ],
   "source": [
    "from sklearn.preprocessing import FunctionTransformer\n",
    "\n",
    "def sin_transformer(period):\n",
    "    return FunctionTransformer(lambda x: np.sin(cycl_encod_fun(x, period)))\n",
    "\n",
    "# create a cos transformer based on the above\n",
    "def cos_transformer(period):\n",
    "    return FunctionTransformer(lambda x: np.cos(cycl_encod_fun(x, period)))\n",
    "\n",
    "\n",
    "# dataframe with 24 hours\n",
    "hour_df = pd.DataFrame(\n",
    "    np.arange(50).reshape(-1, 1),\n",
    "    columns=[\"hour\"],\n",
    ")\n",
    "\n",
    "hour_df[\"hour_sin\"] = sin_transformer(24).fit_transform(hour_df[\"hour\"])\n",
    "# do the same but for cosine\n",
    "hour_df[\"hour_cos\"] = cos_transformer(24).fit_transform(hour_df[\"hour\"])\n",
    "hour_df.plot(x = \"hour\")\n",
    "_ = plt.title(\"Trigonometric encoding for the 'hour' feature\")"
   ]
  },
  {
   "cell_type": "markdown",
   "metadata": {
    "id": "oTsT6yNvo3rn"
   },
   "source": [
    "Here, we compare if the same distance is maintaned. Your task is to transform the `hour` column of `hours_df_2` using cyclical encoding so into `hour_sin` and `hour_cos` columns."
   ]
  },
  {
   "cell_type": "code",
   "execution_count": 12,
   "metadata": {
    "ExecuteTime": {
     "end_time": "2023-12-15T19:26:29.922348200Z",
     "start_time": "2023-12-15T19:26:29.912490300Z"
    },
    "id": "44x-DL8po3ZI"
   },
   "outputs": [
    {
     "name": "stdout",
     "output_type": "stream",
     "text": [
      "   hour  hour_sin  hour_cos\n",
      "0     1  0.258819  0.965926\n",
      "1     3  0.707107  0.707107\n",
      "2    23 -0.258819  0.965926\n",
      "3    13 -0.258819 -0.965926\n"
     ]
    }
   ],
   "source": [
    "hour_df_2 = pd.DataFrame({'hour': [1,3,23,13]})\n",
    "# transform the values using the transformers as we did above\n",
    "\n",
    "# sine transformation\n",
    "hour_df_2[\"hour_sin\"] = sin_transformer(24).fit_transform(hour_df_2[\"hour\"])\n",
    "# cosine transformation\n",
    "hour_df_2[\"hour_cos\"] = cos_transformer(24).fit_transform(hour_df_2[\"hour\"])\n",
    "\n",
    "print(hour_df_2)"
   ]
  },
  {
   "cell_type": "markdown",
   "metadata": {
    "id": "kfOLtk1DOWlN"
   },
   "source": [
    "The following code will show as, how the distances between the values became \"cyclical\". If the distance between hour 1 and 3 and between hour 23 and 1 are not the same, you made somewhere a mistake."
   ]
  },
  {
   "cell_type": "code",
   "execution_count": 13,
   "metadata": {
    "ExecuteTime": {
     "end_time": "2023-12-15T20:26:41.066824200Z",
     "start_time": "2023-12-15T20:26:41.055305500Z"
    },
    "id": "X7jcH-adOW-G"
   },
   "outputs": [
    {
     "data": {
      "text/html": [
       "<div>\n",
       "<style scoped>\n",
       "    .dataframe tbody tr th:only-of-type {\n",
       "        vertical-align: middle;\n",
       "    }\n",
       "\n",
       "    .dataframe tbody tr th {\n",
       "        vertical-align: top;\n",
       "    }\n",
       "\n",
       "    .dataframe thead th {\n",
       "        text-align: right;\n",
       "    }\n",
       "</style>\n",
       "<table border=\"1\" class=\"dataframe\">\n",
       "  <thead>\n",
       "    <tr style=\"text-align: right;\">\n",
       "      <th>hour</th>\n",
       "      <th>1</th>\n",
       "      <th>3</th>\n",
       "      <th>23</th>\n",
       "      <th>13</th>\n",
       "    </tr>\n",
       "    <tr>\n",
       "      <th>hour</th>\n",
       "      <th></th>\n",
       "      <th></th>\n",
       "      <th></th>\n",
       "      <th></th>\n",
       "    </tr>\n",
       "  </thead>\n",
       "  <tbody>\n",
       "    <tr>\n",
       "      <th>1</th>\n",
       "      <td>0.000000</td>\n",
       "      <td>0.517638</td>\n",
       "      <td>0.517638</td>\n",
       "      <td>2.000000</td>\n",
       "    </tr>\n",
       "    <tr>\n",
       "      <th>3</th>\n",
       "      <td>0.517638</td>\n",
       "      <td>0.000000</td>\n",
       "      <td>1.000000</td>\n",
       "      <td>1.931852</td>\n",
       "    </tr>\n",
       "    <tr>\n",
       "      <th>23</th>\n",
       "      <td>0.517638</td>\n",
       "      <td>1.000000</td>\n",
       "      <td>0.000000</td>\n",
       "      <td>1.931852</td>\n",
       "    </tr>\n",
       "    <tr>\n",
       "      <th>13</th>\n",
       "      <td>2.000000</td>\n",
       "      <td>1.931852</td>\n",
       "      <td>1.931852</td>\n",
       "      <td>0.000000</td>\n",
       "    </tr>\n",
       "  </tbody>\n",
       "</table>\n",
       "</div>"
      ],
      "text/plain": [
       "hour        1         3         23        13\n",
       "hour                                        \n",
       "1     0.000000  0.517638  0.517638  2.000000\n",
       "3     0.517638  0.000000  1.000000  1.931852\n",
       "23    0.517638  1.000000  0.000000  1.931852\n",
       "13    2.000000  1.931852  1.931852  0.000000"
      ]
     },
     "execution_count": 13,
     "metadata": {},
     "output_type": "execute_result"
    }
   ],
   "source": [
    "# distance matrix\n",
    "from scipy.spatial.distance import cdist\n",
    "df_array = hour_df_2[[\"hour_sin\", \"hour_cos\"]].to_numpy()\n",
    "dist_mat = cdist(df_array, df_array)\n",
    "pd.DataFrame(dist_mat, columns = hour_df_2[\"hour\"], index = hour_df_2[\"hour\"])"
   ]
  },
  {
   "cell_type": "markdown",
   "metadata": {
    "id": "jh5FAur1P649"
   },
   "source": [
    "## Power transformations"
   ]
  },
  {
   "cell_type": "code",
   "execution_count": 14,
   "metadata": {
    "ExecuteTime": {
     "end_time": "2023-12-15T19:26:29.994200200Z",
     "start_time": "2023-12-15T19:26:29.934457600Z"
    },
    "cellView": "form",
    "id": "eAgvb5PAlg9R"
   },
   "outputs": [],
   "source": [
    "#@title Form creating the data (It is supposed to be hidden ;))\n",
    "original_data = np.random.normal(size = 1000)\n",
    "transf_data_1 = np.zeros(len(original_data))\n",
    "for i in range(len(original_data)):\n",
    "  for j in range(10):\n",
    "    transf_data_1[i] += original_data[i]**j/ np.math.factorial(j)\n",
    "\n",
    "transf_data_2 = (original_data*original_data/original_data)**2"
   ]
  },
  {
   "cell_type": "markdown",
   "metadata": {
    "id": "AgpqycdjoI0O"
   },
   "source": [
    "\n",
    "To show a simple example of power transformation, we are provided two datasets. Your task is to find the right lambda that will transform the data using the Box-cox transformation. First, complete the code for the Box-cox transformation according to the equation in slides."
   ]
  },
  {
   "cell_type": "code",
   "execution_count": 15,
   "metadata": {
    "ExecuteTime": {
     "end_time": "2023-12-15T19:26:29.995197600Z",
     "start_time": "2023-12-15T19:26:29.944328600Z"
    },
    "id": "VsC4j2aFlRdD"
   },
   "outputs": [],
   "source": [
    "def my_box_cox(x, lambda_par = 0):\n",
    "  if lambda_par == 0:\n",
    "    return np.log(x)\n",
    "  else:\n",
    "    return (pow(x, lambda_par) - 1)/lambda_par"
   ]
  },
  {
   "cell_type": "markdown",
   "metadata": {
    "id": "nsdItNSxTdXP"
   },
   "source": [
    "Below is the histogram of the `transf_data_2` you need to transform. You can see, that it has a high skewness.\n"
   ]
  },
  {
   "cell_type": "code",
   "execution_count": 16,
   "metadata": {
    "ExecuteTime": {
     "end_time": "2023-12-15T19:26:30.095940500Z",
     "start_time": "2023-12-15T19:26:29.955331600Z"
    },
    "id": "v5jBcL-VTjur"
   },
   "outputs": [
    {
     "data": {
      "image/png": "[encoded data removed]",
      "text/plain": [
       "<Figure size 640x480 with 1 Axes>"
      ]
     },
     "metadata": {},
     "output_type": "display_data"
    }
   ],
   "source": [
    "_ = plt.hist(transf_data_2)\n",
    "plt.show()"
   ]
  },
  {
   "cell_type": "markdown",
   "metadata": {
    "id": "p8Otwugyld19"
   },
   "source": [
    "Second, try to find the lambda that will reshape the empirical distribution of the data to a normal-like distribution. The lambda will be from the interval $\\langle0,0.5\\rangle$. finally, print the best labmda value."
   ]
  },
  {
   "cell_type": "code",
   "execution_count": 17,
   "metadata": {
    "ExecuteTime": {
     "end_time": "2023-12-15T19:26:30.283416700Z",
     "start_time": "2023-12-15T19:26:30.037138Z"
    },
    "id": "0V2LInY2_gce"
   },
   "outputs": [
    {
     "data": {
      "image/png": "[encoded data removed]",
      "text/plain": [
       "<Figure size 640x480 with 1 Axes>"
      ]
     },
     "metadata": {},
     "output_type": "display_data"
    }
   ],
   "source": [
    "lambda_1 = 0.2\n",
    "_ = plt.hist(my_box_cox(transf_data_2,lambda_1), bins=30)\n",
    "plt.show()"
   ]
  },
  {
   "cell_type": "markdown",
   "metadata": {
    "id": "T5Hj8DuO7H_i"
   },
   "source": [
    "Alterntatively, to transofrm `transf_data_2`, we can use the Box-Cox transformation. Your task is now to study the [documentation](http://scikit-learn.org/stable/modules/generated/sklearn.preprocessing.PowerTransformer.html) for `PowerTransformer` and apply it on the data to produce a Box-Cox transformed vector. The library will find the best lambda value. Also, set the `standardize` parameter to `False`. Finally you can inspect the plot of the variable, if it is really normal like."
   ]
  },
  {
   "cell_type": "code",
   "execution_count": 18,
   "metadata": {
    "ExecuteTime": {
     "end_time": "2023-12-15T19:26:30.285409700Z",
     "start_time": "2023-12-15T19:26:30.143178Z"
    },
    "id": "dXnbx8WO7PzD"
   },
   "outputs": [
    {
     "name": "stdout",
     "output_type": "stream",
     "text": [
      "Lambdas fitted: [-1.05519594]\n"
     ]
    }
   ],
   "source": [
    "from sklearn.preprocessing import PowerTransformer\n",
    "\n",
    "pt = PowerTransformer(standardize=False)\n",
    "data_transf = pt.fit_transform(transf_data_2.reshape(-1, 1)).flatten()\n",
    "# add code to obtain lambdas below\n",
    "print(f\"Lambdas fitted: {pt.lambdas_}\")\n"
   ]
  },
  {
   "cell_type": "markdown",
   "metadata": {
    "id": "zrZKwx7H8BCa"
   },
   "source": [
    "Finally, inspect the histogram to see the result."
   ]
  },
  {
   "cell_type": "code",
   "execution_count": 19,
   "metadata": {
    "ExecuteTime": {
     "end_time": "2023-12-15T19:26:30.415925600Z",
     "start_time": "2023-12-15T19:26:30.149642400Z"
    },
    "id": "CUXeLVl88Eb7"
   },
   "outputs": [
    {
     "data": {
      "image/png": "[encoded data removed]",
      "text/plain": [
       "<Figure size 640x480 with 1 Axes>"
      ]
     },
     "metadata": {},
     "output_type": "display_data"
    }
   ],
   "source": [
    "_ = plt.hist(data_transf)\n",
    "plt.show()"
   ]
  },
  {
   "cell_type": "markdown",
   "metadata": {
    "id": "SZzBkNJvMgOl"
   },
   "source": [
    "## One-hot encoding\n",
    "In the following part we perform the one-hot encoding. In this technique we divide a categorical feature into:\n",
    "* $k$ categories\n",
    "* $k-1$ categories for methdos as regression. If we woukd use $k$ columns, then they would sum up to the column of ones that we pass to the method.\n",
    "\n",
    "How do we interpret these values in regression?\n",
    "Below we have an example of a data frame with a single categorical feature `class`\n",
    "."
   ]
  },
  {
   "cell_type": "code",
   "execution_count": 20,
   "metadata": {
    "ExecuteTime": {
     "end_time": "2023-12-15T19:26:30.417919Z",
     "start_time": "2023-12-15T19:26:30.273247600Z"
    },
    "id": "ssSmiqyOPxRn"
   },
   "outputs": [
    {
     "data": {
      "text/html": [
       "<div>\n",
       "<style scoped>\n",
       "    .dataframe tbody tr th:only-of-type {\n",
       "        vertical-align: middle;\n",
       "    }\n",
       "\n",
       "    .dataframe tbody tr th {\n",
       "        vertical-align: top;\n",
       "    }\n",
       "\n",
       "    .dataframe thead th {\n",
       "        text-align: right;\n",
       "    }\n",
       "</style>\n",
       "<table border=\"1\" class=\"dataframe\">\n",
       "  <thead>\n",
       "    <tr style=\"text-align: right;\">\n",
       "      <th></th>\n",
       "      <th>class</th>\n",
       "      <th>value</th>\n",
       "    </tr>\n",
       "  </thead>\n",
       "  <tbody>\n",
       "    <tr>\n",
       "      <th>0</th>\n",
       "      <td>a</td>\n",
       "      <td>0</td>\n",
       "    </tr>\n",
       "    <tr>\n",
       "      <th>1</th>\n",
       "      <td>a</td>\n",
       "      <td>1</td>\n",
       "    </tr>\n",
       "    <tr>\n",
       "      <th>2</th>\n",
       "      <td>b</td>\n",
       "      <td>2</td>\n",
       "    </tr>\n",
       "    <tr>\n",
       "      <th>3</th>\n",
       "      <td>b</td>\n",
       "      <td>3</td>\n",
       "    </tr>\n",
       "    <tr>\n",
       "      <th>4</th>\n",
       "      <td>a</td>\n",
       "      <td>4</td>\n",
       "    </tr>\n",
       "    <tr>\n",
       "      <th>5</th>\n",
       "      <td>a</td>\n",
       "      <td>5</td>\n",
       "    </tr>\n",
       "    <tr>\n",
       "      <th>6</th>\n",
       "      <td>c</td>\n",
       "      <td>6</td>\n",
       "    </tr>\n",
       "    <tr>\n",
       "      <th>7</th>\n",
       "      <td>c</td>\n",
       "      <td>7</td>\n",
       "    </tr>\n",
       "    <tr>\n",
       "      <th>8</th>\n",
       "      <td>c</td>\n",
       "      <td>8</td>\n",
       "    </tr>\n",
       "  </tbody>\n",
       "</table>\n",
       "</div>"
      ],
      "text/plain": [
       "  class  value\n",
       "0     a      0\n",
       "1     a      1\n",
       "2     b      2\n",
       "3     b      3\n",
       "4     a      4\n",
       "5     a      5\n",
       "6     c      6\n",
       "7     c      7\n",
       "8     c      8"
      ]
     },
     "execution_count": 20,
     "metadata": {},
     "output_type": "execute_result"
    }
   ],
   "source": [
    "categ_df = pd.DataFrame({'class': ['a', 'a', 'b', 'b', 'a', 'a', 'c', 'c', 'c'],\n",
    "                   'value': np.arange(0,9)})\n",
    "categ_df"
   ]
  },
  {
   "cell_type": "markdown",
   "metadata": {
    "id": "Bpt_Z7s0T8Vs"
   },
   "source": [
    "To encode the data frame, try to use the `get_dummies` method from `pandas`. Look at the [`documentation`](https://pandas.pydata.org/docs/reference/api/pandas.get_dummies.html) what arguments you need to specify the **columns** for the transformation as a list as and set a **prefix** \"class\" for the one hot encoded columns. After the one hot encoding, the `class` should be replaced by 3 new columns: class_a, class_b, class_c."
   ]
  },
  {
   "cell_type": "code",
   "execution_count": 21,
   "metadata": {
    "ExecuteTime": {
     "end_time": "2023-12-15T19:26:30.435858700Z",
     "start_time": "2023-12-15T19:26:30.281423300Z"
    },
    "id": "ahrNoS1mThiF"
   },
   "outputs": [
    {
     "data": {
      "text/html": [
       "<div>\n",
       "<style scoped>\n",
       "    .dataframe tbody tr th:only-of-type {\n",
       "        vertical-align: middle;\n",
       "    }\n",
       "\n",
       "    .dataframe tbody tr th {\n",
       "        vertical-align: top;\n",
       "    }\n",
       "\n",
       "    .dataframe thead th {\n",
       "        text-align: right;\n",
       "    }\n",
       "</style>\n",
       "<table border=\"1\" class=\"dataframe\">\n",
       "  <thead>\n",
       "    <tr style=\"text-align: right;\">\n",
       "      <th></th>\n",
       "      <th>value</th>\n",
       "      <th>class_a</th>\n",
       "      <th>class_b</th>\n",
       "      <th>class_c</th>\n",
       "    </tr>\n",
       "  </thead>\n",
       "  <tbody>\n",
       "    <tr>\n",
       "      <th>0</th>\n",
       "      <td>0</td>\n",
       "      <td>True</td>\n",
       "      <td>False</td>\n",
       "      <td>False</td>\n",
       "    </tr>\n",
       "    <tr>\n",
       "      <th>1</th>\n",
       "      <td>1</td>\n",
       "      <td>True</td>\n",
       "      <td>False</td>\n",
       "      <td>False</td>\n",
       "    </tr>\n",
       "    <tr>\n",
       "      <th>2</th>\n",
       "      <td>2</td>\n",
       "      <td>False</td>\n",
       "      <td>True</td>\n",
       "      <td>False</td>\n",
       "    </tr>\n",
       "    <tr>\n",
       "      <th>3</th>\n",
       "      <td>3</td>\n",
       "      <td>False</td>\n",
       "      <td>True</td>\n",
       "      <td>False</td>\n",
       "    </tr>\n",
       "    <tr>\n",
       "      <th>4</th>\n",
       "      <td>4</td>\n",
       "      <td>True</td>\n",
       "      <td>False</td>\n",
       "      <td>False</td>\n",
       "    </tr>\n",
       "    <tr>\n",
       "      <th>5</th>\n",
       "      <td>5</td>\n",
       "      <td>True</td>\n",
       "      <td>False</td>\n",
       "      <td>False</td>\n",
       "    </tr>\n",
       "    <tr>\n",
       "      <th>6</th>\n",
       "      <td>6</td>\n",
       "      <td>False</td>\n",
       "      <td>False</td>\n",
       "      <td>True</td>\n",
       "    </tr>\n",
       "    <tr>\n",
       "      <th>7</th>\n",
       "      <td>7</td>\n",
       "      <td>False</td>\n",
       "      <td>False</td>\n",
       "      <td>True</td>\n",
       "    </tr>\n",
       "    <tr>\n",
       "      <th>8</th>\n",
       "      <td>8</td>\n",
       "      <td>False</td>\n",
       "      <td>False</td>\n",
       "      <td>True</td>\n",
       "    </tr>\n",
       "  </tbody>\n",
       "</table>\n",
       "</div>"
      ],
      "text/plain": [
       "   value  class_a  class_b  class_c\n",
       "0      0     True    False    False\n",
       "1      1     True    False    False\n",
       "2      2    False     True    False\n",
       "3      3    False     True    False\n",
       "4      4     True    False    False\n",
       "5      5     True    False    False\n",
       "6      6    False    False     True\n",
       "7      7    False    False     True\n",
       "8      8    False    False     True"
      ]
     },
     "execution_count": 21,
     "metadata": {},
     "output_type": "execute_result"
    }
   ],
   "source": [
    "ohe_df = pd.get_dummies(categ_df, prefix = \"class\", columns = [\"class\"])\n",
    "ohe_df"
   ]
  },
  {
   "cell_type": "markdown",
   "metadata": {
    "id": "ZpwbCOKgVmpP"
   },
   "source": [
    "Similar proces can be applied using the [`OneHotEncoder`](https://scikit-learn.org/stable/modules/generated/sklearn.preprocessing.OneHotEncoder.html) from sklearn. Here, we can not directly specify the columns for which to do one-hot encoding, but we cann pass a list of columns as keys to the dataframe for which the one-hot encoding will be performed. Then, we just add the column names and create a dataframe"
   ]
  },
  {
   "cell_type": "code",
   "execution_count": 22,
   "metadata": {
    "ExecuteTime": {
     "end_time": "2023-12-15T19:26:30.436855300Z",
     "start_time": "2023-12-15T19:26:30.302462900Z"
    },
    "id": "k7E32ye6TiDR"
   },
   "outputs": [
    {
     "data": {
      "text/html": [
       "<div>\n",
       "<style scoped>\n",
       "    .dataframe tbody tr th:only-of-type {\n",
       "        vertical-align: middle;\n",
       "    }\n",
       "\n",
       "    .dataframe tbody tr th {\n",
       "        vertical-align: top;\n",
       "    }\n",
       "\n",
       "    .dataframe thead th {\n",
       "        text-align: right;\n",
       "    }\n",
       "</style>\n",
       "<table border=\"1\" class=\"dataframe\">\n",
       "  <thead>\n",
       "    <tr style=\"text-align: right;\">\n",
       "      <th></th>\n",
       "      <th>class_a</th>\n",
       "      <th>class_b</th>\n",
       "      <th>class_c</th>\n",
       "    </tr>\n",
       "  </thead>\n",
       "  <tbody>\n",
       "    <tr>\n",
       "      <th>0</th>\n",
       "      <td>1.0</td>\n",
       "      <td>0.0</td>\n",
       "      <td>0.0</td>\n",
       "    </tr>\n",
       "    <tr>\n",
       "      <th>1</th>\n",
       "      <td>1.0</td>\n",
       "      <td>0.0</td>\n",
       "      <td>0.0</td>\n",
       "    </tr>\n",
       "    <tr>\n",
       "      <th>2</th>\n",
       "      <td>0.0</td>\n",
       "      <td>1.0</td>\n",
       "      <td>0.0</td>\n",
       "    </tr>\n",
       "    <tr>\n",
       "      <th>3</th>\n",
       "      <td>0.0</td>\n",
       "      <td>1.0</td>\n",
       "      <td>0.0</td>\n",
       "    </tr>\n",
       "    <tr>\n",
       "      <th>4</th>\n",
       "      <td>1.0</td>\n",
       "      <td>0.0</td>\n",
       "      <td>0.0</td>\n",
       "    </tr>\n",
       "    <tr>\n",
       "      <th>5</th>\n",
       "      <td>1.0</td>\n",
       "      <td>0.0</td>\n",
       "      <td>0.0</td>\n",
       "    </tr>\n",
       "    <tr>\n",
       "      <th>6</th>\n",
       "      <td>0.0</td>\n",
       "      <td>0.0</td>\n",
       "      <td>1.0</td>\n",
       "    </tr>\n",
       "    <tr>\n",
       "      <th>7</th>\n",
       "      <td>0.0</td>\n",
       "      <td>0.0</td>\n",
       "      <td>1.0</td>\n",
       "    </tr>\n",
       "    <tr>\n",
       "      <th>8</th>\n",
       "      <td>0.0</td>\n",
       "      <td>0.0</td>\n",
       "      <td>1.0</td>\n",
       "    </tr>\n",
       "  </tbody>\n",
       "</table>\n",
       "</div>"
      ],
      "text/plain": [
       "   class_a  class_b  class_c\n",
       "0      1.0      0.0      0.0\n",
       "1      1.0      0.0      0.0\n",
       "2      0.0      1.0      0.0\n",
       "3      0.0      1.0      0.0\n",
       "4      1.0      0.0      0.0\n",
       "5      1.0      0.0      0.0\n",
       "6      0.0      0.0      1.0\n",
       "7      0.0      0.0      1.0\n",
       "8      0.0      0.0      1.0"
      ]
     },
     "execution_count": 22,
     "metadata": {},
     "output_type": "execute_result"
    }
   ],
   "source": [
    "from sklearn.preprocessing import OneHotEncoder\n",
    "ohe = OneHotEncoder(sparse_output=False)\n",
    "fit_transf_array  = ohe.fit_transform(categ_df[['class']])\n",
    "fit_transf_df = pd.DataFrame(fit_transf_array, columns = ohe.get_feature_names_out())\n",
    "fit_transf_df"
   ]
  },
  {
   "cell_type": "markdown",
   "metadata": {
    "id": "y3Z074w1bLZ7"
   },
   "source": [
    "#### A code for linear regression\n",
    "To find the coefficients in the linear regression, we will use the approach from the previous lab, based on the QR factorization and backsubstitution."
   ]
  },
  {
   "cell_type": "code",
   "execution_count": 23,
   "metadata": {
    "ExecuteTime": {
     "end_time": "2023-12-15T19:26:30.438848600Z",
     "start_time": "2023-12-15T19:26:30.321905600Z"
    },
    "id": "rbNHxBCccY7y"
   },
   "outputs": [],
   "source": [
    "# gram schmidt ortogonalization\n",
    "def gram_schmidt_orto(A):\n",
    "    n, m = A.shape # get the shape of A\n",
    "    Q = np.zeros((n, m), dtype = np.float64) # initialize matrix Q\n",
    "    for i in range(m):\n",
    "      q = A[:, i]\n",
    "      for j in range(i):\n",
    "        q = q - (Q[:, j].T @ A[:, i]) * Q[:, j]\n",
    "      if np.linalg.norm(q) == 0:\n",
    "        raise Exception(\"Linearly dependent vector\")\n",
    "      Q[:, i] = q / np.linalg.norm(q)\n",
    "    return Q\n",
    "\n",
    "# QR factorization\n",
    "def QR_factorization(A, GS_alg = None):\n",
    "    n, m = A.shape\n",
    "    Q = GS_alg(A)\n",
    "    R = Q.T @ A\n",
    "    return Q, R\n",
    "\n",
    "# backsubstitution\n",
    "def backsubstitution(A, b):\n",
    "  x = np.zeros(A.shape[0]) # vector of solutions\n",
    "  inds=list(range(A.shape[0]))\n",
    "  for i in inds[::-1]:\n",
    "    j = inds.copy()\n",
    "    j.pop(i)\n",
    "    x[i] = (-A[i,j] @ x[j] + b[i]) / A[i,i]\n",
    "  return x\n",
    "\n",
    "# least sauqres, returns vector of coefficients, the X vector needs to be padded with ones\n",
    "# if the X is padded from right by ones, the last returned coefficient is the intercept\n",
    "def solve_least_squares(X,y, pad_X_by_ones=True):\n",
    "  if pad_X_by_ones: # stack X by vector of ones\n",
    "    X=np.hstack((X, np.ones((X.shape[0],1))))\n",
    "  Q,R = QR_factorization(X, GS_alg = gram_schmidt_orto)\n",
    "  return backsubstitution(R, Q.T @ y)"
   ]
  },
  {
   "cell_type": "markdown",
   "metadata": {
    "id": "4l__ZNXbdBhA"
   },
   "source": [
    "## More columns in the real estate data"
   ]
  },
  {
   "cell_type": "markdown",
   "metadata": {
    "id": "aZCgqSU2dzCK"
   },
   "source": [
    "We have a new dataset containing real estate data, similar to the one used in the previous lab. First, check what columns it contains."
   ]
  },
  {
   "cell_type": "code",
   "execution_count": 24,
   "metadata": {
    "ExecuteTime": {
     "end_time": "2023-12-15T19:26:31.457094700Z",
     "start_time": "2023-12-15T19:26:30.330213100Z"
    },
    "id": "_-en725wdA58"
   },
   "outputs": [
    {
     "name": "stdout",
     "output_type": "stream",
     "text": [
      "<class 'pandas.core.frame.DataFrame'>\n",
      "RangeIndex: 414 entries, 0 to 413\n",
      "Data columns (total 8 columns):\n",
      " #   Column                           Non-Null Count  Dtype  \n",
      "---  ------                           --------------  -----  \n",
      " 0   Unnamed: 0                       414 non-null    int64  \n",
      " 1   X1.transaction.date              414 non-null    float64\n",
      " 2   X2.house.age                     414 non-null    float64\n",
      " 3   X4.number.of.convenience.stores  414 non-null    int64  \n",
      " 4   X5.latitude                      414 non-null    float64\n",
      " 5   X6.longitude                     414 non-null    float64\n",
      " 6   y                                414 non-null    float64\n",
      " 7   house_type                       414 non-null    object \n",
      "dtypes: float64(5), int64(2), object(1)\n",
      "memory usage: 26.0+ KB\n",
      "None\n"
     ]
    },
    {
     "data": {
      "text/html": [
       "<div>\n",
       "<style scoped>\n",
       "    .dataframe tbody tr th:only-of-type {\n",
       "        vertical-align: middle;\n",
       "    }\n",
       "\n",
       "    .dataframe tbody tr th {\n",
       "        vertical-align: top;\n",
       "    }\n",
       "\n",
       "    .dataframe thead th {\n",
       "        text-align: right;\n",
       "    }\n",
       "</style>\n",
       "<table border=\"1\" class=\"dataframe\">\n",
       "  <thead>\n",
       "    <tr style=\"text-align: right;\">\n",
       "      <th></th>\n",
       "      <th>Unnamed: 0</th>\n",
       "      <th>X1.transaction.date</th>\n",
       "      <th>X2.house.age</th>\n",
       "      <th>X4.number.of.convenience.stores</th>\n",
       "      <th>X5.latitude</th>\n",
       "      <th>X6.longitude</th>\n",
       "      <th>y</th>\n",
       "      <th>house_type</th>\n",
       "    </tr>\n",
       "  </thead>\n",
       "  <tbody>\n",
       "    <tr>\n",
       "      <th>0</th>\n",
       "      <td>1</td>\n",
       "      <td>2012.917</td>\n",
       "      <td>32.0</td>\n",
       "      <td>10</td>\n",
       "      <td>24.98298</td>\n",
       "      <td>121.54024</td>\n",
       "      <td>180883.998018</td>\n",
       "      <td>newbuilt</td>\n",
       "    </tr>\n",
       "    <tr>\n",
       "      <th>1</th>\n",
       "      <td>2</td>\n",
       "      <td>2012.917</td>\n",
       "      <td>19.5</td>\n",
       "      <td>9</td>\n",
       "      <td>24.98034</td>\n",
       "      <td>121.53951</td>\n",
       "      <td>181006.917698</td>\n",
       "      <td>newbuilt</td>\n",
       "    </tr>\n",
       "    <tr>\n",
       "      <th>2</th>\n",
       "      <td>3</td>\n",
       "      <td>2013.583</td>\n",
       "      <td>13.3</td>\n",
       "      <td>5</td>\n",
       "      <td>24.98746</td>\n",
       "      <td>121.54391</td>\n",
       "      <td>181174.277464</td>\n",
       "      <td>newbuilt</td>\n",
       "    </tr>\n",
       "    <tr>\n",
       "      <th>3</th>\n",
       "      <td>4</td>\n",
       "      <td>2013.500</td>\n",
       "      <td>13.3</td>\n",
       "      <td>5</td>\n",
       "      <td>24.98746</td>\n",
       "      <td>121.54391</td>\n",
       "      <td>179713.052437</td>\n",
       "      <td>socialist</td>\n",
       "    </tr>\n",
       "    <tr>\n",
       "      <th>4</th>\n",
       "      <td>5</td>\n",
       "      <td>2012.833</td>\n",
       "      <td>5.0</td>\n",
       "      <td>5</td>\n",
       "      <td>24.97937</td>\n",
       "      <td>121.54245</td>\n",
       "      <td>180580.581102</td>\n",
       "      <td>newbuilt</td>\n",
       "    </tr>\n",
       "  </tbody>\n",
       "</table>\n",
       "</div>"
      ],
      "text/plain": [
       "   Unnamed: 0  X1.transaction.date  X2.house.age  \\\n",
       "0           1             2012.917          32.0   \n",
       "1           2             2012.917          19.5   \n",
       "2           3             2013.583          13.3   \n",
       "3           4             2013.500          13.3   \n",
       "4           5             2012.833           5.0   \n",
       "\n",
       "   X4.number.of.convenience.stores  X5.latitude  X6.longitude              y  \\\n",
       "0                               10     24.98298     121.54024  180883.998018   \n",
       "1                                9     24.98034     121.53951  181006.917698   \n",
       "2                                5     24.98746     121.54391  181174.277464   \n",
       "3                                5     24.98746     121.54391  179713.052437   \n",
       "4                                5     24.97937     121.54245  180580.581102   \n",
       "\n",
       "  house_type  \n",
       "0   newbuilt  \n",
       "1   newbuilt  \n",
       "2   newbuilt  \n",
       "3  socialist  \n",
       "4   newbuilt  "
      ]
     },
     "execution_count": 24,
     "metadata": {},
     "output_type": "execute_result"
    }
   ],
   "source": [
    "reg_df = pd.read_csv(\"https://drive.google.com/uc?id=1S3ntOUkw60f1dU5nrQCFBR3epWdASA9S\")\n",
    "print(reg_df.info())\n",
    "reg_df.head()"
   ]
  },
  {
   "cell_type": "markdown",
   "metadata": {
    "id": "T14y7RL59FnT"
   },
   "source": [
    "Did you notice that the data contains a categorical feature? As linear regression works only with numerical data, we need to one hot encode the feature. Below, use the `pandas` function to one-hot encode the categorical features."
   ]
  },
  {
   "cell_type": "code",
   "execution_count": 25,
   "metadata": {
    "ExecuteTime": {
     "end_time": "2023-12-15T19:26:31.459088200Z",
     "start_time": "2023-12-15T19:26:31.440643100Z"
    },
    "id": "kwpgPWk53zen"
   },
   "outputs": [
    {
     "data": {
      "text/html": [
       "<div>\n",
       "<style scoped>\n",
       "    .dataframe tbody tr th:only-of-type {\n",
       "        vertical-align: middle;\n",
       "    }\n",
       "\n",
       "    .dataframe tbody tr th {\n",
       "        vertical-align: top;\n",
       "    }\n",
       "\n",
       "    .dataframe thead th {\n",
       "        text-align: right;\n",
       "    }\n",
       "</style>\n",
       "<table border=\"1\" class=\"dataframe\">\n",
       "  <thead>\n",
       "    <tr style=\"text-align: right;\">\n",
       "      <th></th>\n",
       "      <th>Unnamed: 0</th>\n",
       "      <th>X1.transaction.date</th>\n",
       "      <th>X2.house.age</th>\n",
       "      <th>X4.number.of.convenience.stores</th>\n",
       "      <th>X5.latitude</th>\n",
       "      <th>X6.longitude</th>\n",
       "      <th>y</th>\n",
       "      <th>house_type_penthouse</th>\n",
       "      <th>house_type_socialist</th>\n",
       "    </tr>\n",
       "  </thead>\n",
       "  <tbody>\n",
       "    <tr>\n",
       "      <th>0</th>\n",
       "      <td>1</td>\n",
       "      <td>2012.917</td>\n",
       "      <td>32.0</td>\n",
       "      <td>10</td>\n",
       "      <td>24.98298</td>\n",
       "      <td>121.54024</td>\n",
       "      <td>180883.998018</td>\n",
       "      <td>False</td>\n",
       "      <td>False</td>\n",
       "    </tr>\n",
       "    <tr>\n",
       "      <th>1</th>\n",
       "      <td>2</td>\n",
       "      <td>2012.917</td>\n",
       "      <td>19.5</td>\n",
       "      <td>9</td>\n",
       "      <td>24.98034</td>\n",
       "      <td>121.53951</td>\n",
       "      <td>181006.917698</td>\n",
       "      <td>False</td>\n",
       "      <td>False</td>\n",
       "    </tr>\n",
       "    <tr>\n",
       "      <th>2</th>\n",
       "      <td>3</td>\n",
       "      <td>2013.583</td>\n",
       "      <td>13.3</td>\n",
       "      <td>5</td>\n",
       "      <td>24.98746</td>\n",
       "      <td>121.54391</td>\n",
       "      <td>181174.277464</td>\n",
       "      <td>False</td>\n",
       "      <td>False</td>\n",
       "    </tr>\n",
       "    <tr>\n",
       "      <th>3</th>\n",
       "      <td>4</td>\n",
       "      <td>2013.500</td>\n",
       "      <td>13.3</td>\n",
       "      <td>5</td>\n",
       "      <td>24.98746</td>\n",
       "      <td>121.54391</td>\n",
       "      <td>179713.052437</td>\n",
       "      <td>False</td>\n",
       "      <td>True</td>\n",
       "    </tr>\n",
       "    <tr>\n",
       "      <th>4</th>\n",
       "      <td>5</td>\n",
       "      <td>2012.833</td>\n",
       "      <td>5.0</td>\n",
       "      <td>5</td>\n",
       "      <td>24.97937</td>\n",
       "      <td>121.54245</td>\n",
       "      <td>180580.581102</td>\n",
       "      <td>False</td>\n",
       "      <td>False</td>\n",
       "    </tr>\n",
       "    <tr>\n",
       "      <th>...</th>\n",
       "      <td>...</td>\n",
       "      <td>...</td>\n",
       "      <td>...</td>\n",
       "      <td>...</td>\n",
       "      <td>...</td>\n",
       "      <td>...</td>\n",
       "      <td>...</td>\n",
       "      <td>...</td>\n",
       "      <td>...</td>\n",
       "    </tr>\n",
       "    <tr>\n",
       "      <th>409</th>\n",
       "      <td>410</td>\n",
       "      <td>2013.000</td>\n",
       "      <td>13.7</td>\n",
       "      <td>0</td>\n",
       "      <td>24.94155</td>\n",
       "      <td>121.50381</td>\n",
       "      <td>179926.364273</td>\n",
       "      <td>False</td>\n",
       "      <td>False</td>\n",
       "    </tr>\n",
       "    <tr>\n",
       "      <th>410</th>\n",
       "      <td>411</td>\n",
       "      <td>2012.667</td>\n",
       "      <td>5.6</td>\n",
       "      <td>9</td>\n",
       "      <td>24.97433</td>\n",
       "      <td>121.54310</td>\n",
       "      <td>180186.110494</td>\n",
       "      <td>True</td>\n",
       "      <td>False</td>\n",
       "    </tr>\n",
       "    <tr>\n",
       "      <th>411</th>\n",
       "      <td>412</td>\n",
       "      <td>2013.250</td>\n",
       "      <td>18.8</td>\n",
       "      <td>7</td>\n",
       "      <td>24.97923</td>\n",
       "      <td>121.53986</td>\n",
       "      <td>180518.256152</td>\n",
       "      <td>True</td>\n",
       "      <td>False</td>\n",
       "    </tr>\n",
       "    <tr>\n",
       "      <th>412</th>\n",
       "      <td>413</td>\n",
       "      <td>2013.000</td>\n",
       "      <td>8.1</td>\n",
       "      <td>5</td>\n",
       "      <td>24.96674</td>\n",
       "      <td>121.54067</td>\n",
       "      <td>181200.022761</td>\n",
       "      <td>False</td>\n",
       "      <td>False</td>\n",
       "    </tr>\n",
       "    <tr>\n",
       "      <th>413</th>\n",
       "      <td>414</td>\n",
       "      <td>2013.500</td>\n",
       "      <td>6.5</td>\n",
       "      <td>9</td>\n",
       "      <td>24.97433</td>\n",
       "      <td>121.54310</td>\n",
       "      <td>180091.899169</td>\n",
       "      <td>False</td>\n",
       "      <td>True</td>\n",
       "    </tr>\n",
       "  </tbody>\n",
       "</table>\n",
       "<p>414 rows × 9 columns</p>\n",
       "</div>"
      ],
      "text/plain": [
       "     Unnamed: 0  X1.transaction.date  X2.house.age  \\\n",
       "0             1             2012.917          32.0   \n",
       "1             2             2012.917          19.5   \n",
       "2             3             2013.583          13.3   \n",
       "3             4             2013.500          13.3   \n",
       "4             5             2012.833           5.0   \n",
       "..          ...                  ...           ...   \n",
       "409         410             2013.000          13.7   \n",
       "410         411             2012.667           5.6   \n",
       "411         412             2013.250          18.8   \n",
       "412         413             2013.000           8.1   \n",
       "413         414             2013.500           6.5   \n",
       "\n",
       "     X4.number.of.convenience.stores  X5.latitude  X6.longitude  \\\n",
       "0                                 10     24.98298     121.54024   \n",
       "1                                  9     24.98034     121.53951   \n",
       "2                                  5     24.98746     121.54391   \n",
       "3                                  5     24.98746     121.54391   \n",
       "4                                  5     24.97937     121.54245   \n",
       "..                               ...          ...           ...   \n",
       "409                                0     24.94155     121.50381   \n",
       "410                                9     24.97433     121.54310   \n",
       "411                                7     24.97923     121.53986   \n",
       "412                                5     24.96674     121.54067   \n",
       "413                                9     24.97433     121.54310   \n",
       "\n",
       "                 y  house_type_penthouse  house_type_socialist  \n",
       "0    180883.998018                 False                 False  \n",
       "1    181006.917698                 False                 False  \n",
       "2    181174.277464                 False                 False  \n",
       "3    179713.052437                 False                  True  \n",
       "4    180580.581102                 False                 False  \n",
       "..             ...                   ...                   ...  \n",
       "409  179926.364273                 False                 False  \n",
       "410  180186.110494                  True                 False  \n",
       "411  180518.256152                  True                 False  \n",
       "412  181200.022761                 False                 False  \n",
       "413  180091.899169                 False                  True  \n",
       "\n",
       "[414 rows x 9 columns]"
      ]
     },
     "execution_count": 25,
     "metadata": {},
     "output_type": "execute_result"
    }
   ],
   "source": [
    "reg_df_oh = pd.get_dummies(reg_df, drop_first=True)\n",
    "reg_df_oh"
   ]
  },
  {
   "cell_type": "markdown",
   "metadata": {
    "id": "0aJkyCzmCobD"
   },
   "source": [
    "Now, we perform the regression. Use the `solve_least_squares` method with `pad_X_by_ones` parameter set to `True` to obtain regression ocefficients and store them in `reg_coeffs` variable."
   ]
  },
  {
   "cell_type": "code",
   "execution_count": 26,
   "metadata": {
    "ExecuteTime": {
     "start_time": "2023-12-15T19:26:31.445137100Z"
    },
    "id": "C_vwaQjfCo0f"
   },
   "outputs": [],
   "source": [
    "X = reg_df_oh.loc[:, reg_df_oh.columns != 'y']\n",
    "y_real = reg_df_oh['y'].to_numpy().reshape(-1,1)\n",
    "reg_coeffs = solve_least_squares(X, y_real, pad_X_by_ones=True)"
   ]
  },
  {
   "cell_type": "markdown",
   "metadata": {
    "id": "RzmZYceLCguM"
   },
   "source": [
    " If the Gram-Schmidt algorithm threw an exception, you may need need to remove one of the one-hot encoded columns, as now they create a linear combination. Therefore, in the cell with one-hot encoding, you need to encode the $k$ categories into $k-1$ binary variables if you did not do so.\n",
    "\n",
    " To predict the values, please create a function that will predict the response for a feature matrix with intercept `X` using linear regression, where the coefficients are passed as the `coeffs` paramter.\n",
    "\n"
   ]
  },
  {
   "cell_type": "code",
   "execution_count": 27,
   "metadata": {
    "ExecuteTime": {
     "start_time": "2023-12-15T19:26:31.446132800Z"
    },
    "id": "JgimFuvLChti"
   },
   "outputs": [],
   "source": [
    "def get_estimated_response(X, coeffs):\n",
    "  # Add intercept if necessary\n",
    "  if coeffs[0] != 0:\n",
    "    X = np.hstack((np.ones((X.shape[0], 1)), X))\n",
    "  # return the prediction\n",
    "  y_pred = np.dot(X, coeffs)\n",
    "\n",
    "  return y_pred"
   ]
  },
  {
   "cell_type": "markdown",
   "metadata": {
    "id": "TtBrOfhd3mfQ"
   },
   "source": [
    "Now, perform the estimation of the response usign the `get_estimated_response` function."
   ]
  },
  {
   "cell_type": "code",
   "execution_count": 28,
   "metadata": {
    "ExecuteTime": {
     "start_time": "2023-12-15T19:26:31.448125400Z"
    },
    "id": "elNGtNEH3pgh"
   },
   "outputs": [],
   "source": [
    "y_fitted = get_estimated_response(X, reg_coeffs)"
   ]
  },
  {
   "cell_type": "markdown",
   "metadata": {
    "id": "dX_dEjnF3WCI"
   },
   "source": [
    "To estimate how well we fitted the data, we can use a measure as for example the rooted mean squarred error:\n",
    "$RMSE=\\sqrt{ \\frac{1}{n} (y-\\hat{y})^T (y-\\hat{y}) }$. Below finish the equation to compute $RMSE$."
   ]
  },
  {
   "cell_type": "code",
   "execution_count": 29,
   "metadata": {
    "ExecuteTime": {
     "start_time": "2023-12-15T19:26:31.450119100Z"
    },
    "id": "U9kmg1Jd3Yp8"
   },
   "outputs": [
    {
     "name": "stdout",
     "output_type": "stream",
     "text": [
      "RMSE: 302502.88316877803\n"
     ]
    }
   ],
   "source": [
    "def rmse(y_real, y_fitted):\n",
    "  error = np.sqrt(np.mean(np.square(y_fitted - y_real))) \n",
    "  return error\n",
    "\n",
    "print(f\"RMSE: {rmse(y_real, y_fitted)}\")"
   ]
  },
  {
   "cell_type": "markdown",
   "metadata": {
    "id": "6yIvvkaEHgba"
   },
   "source": [
    "## Nonmandatory part: Natural language processing\n",
    "### TF-IDF\n",
    "Considering a text matrix, try to calculate term frequency - inverse document frequency (*TF-IDF*). You can find the equations in slides.\n",
    "In the files, create a new folder named texts. Upload there the 6 text files from the [*president_speeches.zip*](https://drive.google.com/file/d/135yIT0WnL7D6j1Rz1zH70ti3Q5e2QTqb/view?usp=drive_link) file that which in the same directory as this notebook.\n",
    "\n",
    "The code below processes the documents"
   ]
  },
  {
   "cell_type": "code",
   "execution_count": 40,
   "metadata": {
    "ExecuteTime": {
     "start_time": "2023-12-15T19:26:31.452113900Z"
    },
    "id": "MK0KfmbxjLCp"
   },
   "outputs": [
    {
     "data": {
      "text/plain": [
       "[]"
      ]
     },
     "execution_count": 40,
     "metadata": {},
     "output_type": "execute_result"
    }
   ],
   "source": [
    "from sklearn.feature_extraction.text import CountVectorizer\n",
    "import glob\n",
    "import pandas as pd\n",
    "#pd.set_option('max_rows', 600)\n",
    "from pathlib import Path\n",
    "directory_path = \"texts\"\n",
    "text_files = glob.glob(f\"{directory_path}/*.txt\")\n",
    "text_titles = [Path(text).stem for text in text_files]\n",
    "text_titles\n"
   ]
  },
  {
   "cell_type": "markdown",
   "metadata": {
    "id": "vUdgky06jMmq"
   },
   "source": [
    "Below is an example of how to use `CountVectorizer`, a text processer from `sklearn`, to create a Document term matrix. Also, we have passed stop words to the vectorizer, to omit the frequent words with almost no meaning."
   ]
  },
  {
   "cell_type": "code",
   "execution_count": 41,
   "metadata": {
    "ExecuteTime": {
     "start_time": "2023-12-15T19:26:31.454104900Z"
    },
    "id": "EvC1Bw-QjNDr"
   },
   "outputs": [
    {
     "ename": "ValueError",
     "evalue": "empty vocabulary; perhaps the documents only contain stop words",
     "output_type": "error",
     "traceback": [
      "\u001b[1;31m---------------------------------------------------------------------------\u001b[0m",
      "\u001b[1;31mValueError\u001b[0m                                Traceback (most recent call last)",
      "Cell \u001b[1;32mIn[41], line 2\u001b[0m\n\u001b[0;32m      1\u001b[0m vectorizer \u001b[38;5;241m=\u001b[39m CountVectorizer(stop_words\u001b[38;5;241m=\u001b[39m\u001b[38;5;124m\"\u001b[39m\u001b[38;5;124menglish\u001b[39m\u001b[38;5;124m\"\u001b[39m)\n\u001b[1;32m----> 2\u001b[0m dtm_vector \u001b[38;5;241m=\u001b[39m vectorizer\u001b[38;5;241m.\u001b[39mfit_transform(text_files)\n\u001b[0;32m      3\u001b[0m DTM \u001b[38;5;241m=\u001b[39m pd\u001b[38;5;241m.\u001b[39mDataFrame(dtm_vector\u001b[38;5;241m.\u001b[39mtoarray(), index\u001b[38;5;241m=\u001b[39mtext_titles, columns\u001b[38;5;241m=\u001b[39mvectorizer\u001b[38;5;241m.\u001b[39mget_feature_names_out())\n\u001b[0;32m      4\u001b[0m DTM\n",
      "File \u001b[1;32mc:\\Users\\Patrik\\anaconda3\\Lib\\site-packages\\sklearn\\base.py:1151\u001b[0m, in \u001b[0;36m_fit_context.<locals>.decorator.<locals>.wrapper\u001b[1;34m(estimator, *args, **kwargs)\u001b[0m\n\u001b[0;32m   1144\u001b[0m     estimator\u001b[38;5;241m.\u001b[39m_validate_params()\n\u001b[0;32m   1146\u001b[0m \u001b[38;5;28;01mwith\u001b[39;00m config_context(\n\u001b[0;32m   1147\u001b[0m     skip_parameter_validation\u001b[38;5;241m=\u001b[39m(\n\u001b[0;32m   1148\u001b[0m         prefer_skip_nested_validation \u001b[38;5;129;01mor\u001b[39;00m global_skip_validation\n\u001b[0;32m   1149\u001b[0m     )\n\u001b[0;32m   1150\u001b[0m ):\n\u001b[1;32m-> 1151\u001b[0m     \u001b[38;5;28;01mreturn\u001b[39;00m fit_method(estimator, \u001b[38;5;241m*\u001b[39margs, \u001b[38;5;241m*\u001b[39m\u001b[38;5;241m*\u001b[39mkwargs)\n",
      "File \u001b[1;32mc:\\Users\\Patrik\\anaconda3\\Lib\\site-packages\\sklearn\\feature_extraction\\text.py:1383\u001b[0m, in \u001b[0;36mCountVectorizer.fit_transform\u001b[1;34m(self, raw_documents, y)\u001b[0m\n\u001b[0;32m   1375\u001b[0m             warnings\u001b[38;5;241m.\u001b[39mwarn(\n\u001b[0;32m   1376\u001b[0m                 \u001b[38;5;124m\"\u001b[39m\u001b[38;5;124mUpper case characters found in\u001b[39m\u001b[38;5;124m\"\u001b[39m\n\u001b[0;32m   1377\u001b[0m                 \u001b[38;5;124m\"\u001b[39m\u001b[38;5;124m vocabulary while \u001b[39m\u001b[38;5;124m'\u001b[39m\u001b[38;5;124mlowercase\u001b[39m\u001b[38;5;124m'\u001b[39m\u001b[38;5;124m\"\u001b[39m\n\u001b[0;32m   1378\u001b[0m                 \u001b[38;5;124m\"\u001b[39m\u001b[38;5;124m is True. These entries will not\u001b[39m\u001b[38;5;124m\"\u001b[39m\n\u001b[0;32m   1379\u001b[0m                 \u001b[38;5;124m\"\u001b[39m\u001b[38;5;124m be matched with any documents\u001b[39m\u001b[38;5;124m\"\u001b[39m\n\u001b[0;32m   1380\u001b[0m             )\n\u001b[0;32m   1381\u001b[0m             \u001b[38;5;28;01mbreak\u001b[39;00m\n\u001b[1;32m-> 1383\u001b[0m vocabulary, X \u001b[38;5;241m=\u001b[39m \u001b[38;5;28mself\u001b[39m\u001b[38;5;241m.\u001b[39m_count_vocab(raw_documents, \u001b[38;5;28mself\u001b[39m\u001b[38;5;241m.\u001b[39mfixed_vocabulary_)\n\u001b[0;32m   1385\u001b[0m \u001b[38;5;28;01mif\u001b[39;00m \u001b[38;5;28mself\u001b[39m\u001b[38;5;241m.\u001b[39mbinary:\n\u001b[0;32m   1386\u001b[0m     X\u001b[38;5;241m.\u001b[39mdata\u001b[38;5;241m.\u001b[39mfill(\u001b[38;5;241m1\u001b[39m)\n",
      "File \u001b[1;32mc:\\Users\\Patrik\\anaconda3\\Lib\\site-packages\\sklearn\\feature_extraction\\text.py:1289\u001b[0m, in \u001b[0;36mCountVectorizer._count_vocab\u001b[1;34m(self, raw_documents, fixed_vocab)\u001b[0m\n\u001b[0;32m   1287\u001b[0m     vocabulary \u001b[38;5;241m=\u001b[39m \u001b[38;5;28mdict\u001b[39m(vocabulary)\n\u001b[0;32m   1288\u001b[0m     \u001b[38;5;28;01mif\u001b[39;00m \u001b[38;5;129;01mnot\u001b[39;00m vocabulary:\n\u001b[1;32m-> 1289\u001b[0m         \u001b[38;5;28;01mraise\u001b[39;00m \u001b[38;5;167;01mValueError\u001b[39;00m(\n\u001b[0;32m   1290\u001b[0m             \u001b[38;5;124m\"\u001b[39m\u001b[38;5;124mempty vocabulary; perhaps the documents only contain stop words\u001b[39m\u001b[38;5;124m\"\u001b[39m\n\u001b[0;32m   1291\u001b[0m         )\n\u001b[0;32m   1293\u001b[0m \u001b[38;5;28;01mif\u001b[39;00m indptr[\u001b[38;5;241m-\u001b[39m\u001b[38;5;241m1\u001b[39m] \u001b[38;5;241m>\u001b[39m np\u001b[38;5;241m.\u001b[39miinfo(np\u001b[38;5;241m.\u001b[39mint32)\u001b[38;5;241m.\u001b[39mmax:  \u001b[38;5;66;03m# = 2**31 - 1\u001b[39;00m\n\u001b[0;32m   1294\u001b[0m     \u001b[38;5;28;01mif\u001b[39;00m _IS_32BIT:\n",
      "\u001b[1;31mValueError\u001b[0m: empty vocabulary; perhaps the documents only contain stop words"
     ]
    }
   ],
   "source": [
    "vectorizer = CountVectorizer(stop_words=\"english\")\n",
    "dtm_vector = vectorizer.fit_transform(text_files)\n",
    "DTM = pd.DataFrame(dtm_vector.toarray(), index=text_titles, columns=vectorizer.get_feature_names_out())\n",
    "DTM"
   ]
  },
  {
   "cell_type": "markdown",
   "metadata": {
    "id": "nvbpfcbGjlu6"
   },
   "source": [
    "\n",
    "Fill the bodies of the functions below to obtain the tf-idf matrix. You can use the DTM to simplify your computations.\n",
    "\n",
    "\n"
   ]
  },
  {
   "cell_type": "code",
   "execution_count": null,
   "metadata": {
    "ExecuteTime": {
     "start_time": "2023-12-15T19:26:31.455101400Z"
    },
    "id": "8p1Vosh7jlZy"
   },
   "outputs": [],
   "source": [
    "def tf(w, d, freq_fun):\n",
    "  DTM.\n",
    "\n",
    "def idf(w, D, freq_fun):\n",
    "  pass\n",
    "\n",
    "def TFIDF(w, d, D, tf = tf, idf = idf):\n",
    "  pass"
   ]
  },
  {
   "cell_type": "markdown",
   "metadata": {
    "id": "MsxeTBQ7d7Y5"
   },
   "source": [
    "Extract the tf idf below for the words: war, peace, people."
   ]
  },
  {
   "cell_type": "code",
   "execution_count": null,
   "metadata": {
    "ExecuteTime": {
     "start_time": "2023-12-15T19:26:31.456098300Z"
    },
    "id": "ag3iEJIUd8L0"
   },
   "outputs": [],
   "source": []
  },
  {
   "cell_type": "markdown",
   "metadata": {
    "id": "hnP7lK_YjsyK"
   },
   "source": [
    " Below, compare your result with with `sklearn.TfidfVectorizer` result. To work with the vectorizer you can check the [sklearn documentation](https://scikit-learn.org/stable/modules/generated/sklearn.feature_extraction.text.TfidfVectorizer.html) or a [tutorial on sklearn tf-idf](https://melaniewalsh.github.io/Intro-Cultural-Analytics/05-Text-Analysis/03-TF-IDF-Scikit-Learn.html).\n",
    "\n"
   ]
  },
  {
   "cell_type": "code",
   "execution_count": null,
   "metadata": {
    "ExecuteTime": {
     "start_time": "2023-12-15T19:26:31.456098300Z"
    },
    "id": "TZ1Xo99jjsMx"
   },
   "outputs": [],
   "source": [
    "from sklearn.feature_extraction.text import TfidfVectorizer"
   ]
  }
 ],
 "metadata": {
  "colab": {
   "provenance": [
    {
     "file_id": "1BcD1oY2J5-aItHsfH-eB6ZRM07fDmiLb",
     "timestamp": 1702495995966
    }
   ]
  },
  "kernelspec": {
   "display_name": "Python 3 (ipykernel)",
   "language": "python",
   "name": "python3"
  },
  "language_info": {
   "codemirror_mode": {
    "name": "ipython",
    "version": 3
   },
   "file_extension": ".py",
   "mimetype": "text/x-python",
   "name": "python",
   "nbconvert_exporter": "python",
   "pygments_lexer": "ipython3",
   "version": "3.11.5"
  }
 },
 "nbformat": 4,
 "nbformat_minor": 1
}
